{
 "cells": [
  {
   "attachments": {},
   "cell_type": "markdown",
   "metadata": {},
   "source": [
    "# Proyecto final de la asignatura Minería de datos y el paradigma Big Data - curso 2022/23"
   ]
  },
  {
   "attachments": {},
   "cell_type": "markdown",
   "metadata": {},
   "source": [
    "## Imports"
   ]
  },
  {
   "cell_type": "code",
   "execution_count": 26,
   "metadata": {},
   "outputs": [],
   "source": [
    "import pandas as pd\n",
    "import numpy as np\n",
    "import datetime as date\n"
   ]
  },
  {
   "attachments": {},
   "cell_type": "markdown",
   "metadata": {},
   "source": [
    "## Rutas"
   ]
  },
  {
   "cell_type": "code",
   "execution_count": 3,
   "metadata": {},
   "outputs": [],
   "source": [
    "path = './Data/'\n",
    "file = 'itineraries_300000_clean.csv'"
   ]
  },
  {
   "attachments": {},
   "cell_type": "markdown",
   "metadata": {},
   "source": [
    "## Limpieza del dataset"
   ]
  },
  {
   "cell_type": "code",
   "execution_count": null,
   "metadata": {},
   "outputs": [],
   "source": [
    "finalFile = 'itineraries_clean.csv'\n",
    "\n",
    "columnsSelected = [ 'legId', 'searchDate', 'flightDate', 'startingAirport',\n",
    "    'destinationAirport', 'travelDuration',\n",
    "    'isBasicEconomy', 'totalFare',\n",
    "    'seatsRemaining', 'totalTravelDistance', \n",
    "    'segmentsAirlineName', 'segmentsAirlineCode']\n",
    "\n",
    "data = pd.read_csv(path + file,usecols=columnsSelected,index_col= None)\n",
    "print(data)\n",
    "data.to_csv(path + finalFile,index=False)"
   ]
  },
  {
   "attachments": {},
   "cell_type": "markdown",
   "metadata": {},
   "source": [
    "## Lectura del dataset"
   ]
  },
  {
   "cell_type": "code",
   "execution_count": 4,
   "metadata": {},
   "outputs": [
    {
     "name": "stdout",
     "output_type": "stream",
     "text": [
      "Index(['legId', 'searchDate', 'flightDate', 'startingAirport',\n",
      "       'destinationAirport', 'travelDuration', 'isBasicEconomy', 'totalFare',\n",
      "       'seatsRemaining', 'totalTravelDistance', 'segmentsAirlineName',\n",
      "       'segmentsAirlineCode'],\n",
      "      dtype='object')\n",
      "[['9ca0e81111c683bec1012473feefd28f' Timestamp('2022-04-16 00:00:00')\n",
      "  Timestamp('2022-04-17 00:00:00') 'ATL' 'BOS' 'PT2H29M' False 248.6 9\n",
      "  947.0 list(['Delta']) list(['DL'])]\n",
      " ['98685953630e772a098941b71906592b' Timestamp('2022-04-16 00:00:00')\n",
      "  Timestamp('2022-04-17 00:00:00') 'ATL' 'BOS' 'PT2H30M' False 248.6 4\n",
      "  947.0 list(['Delta']) list(['DL'])]\n",
      " ['98d90cbc32bfbb05c2fc32897c7c1087' Timestamp('2022-04-16 00:00:00')\n",
      "  Timestamp('2022-04-17 00:00:00') 'ATL' 'BOS' 'PT2H30M' False 248.6 9\n",
      "  947.0 list(['Delta']) list(['DL'])]\n",
      " ['969a269d38eae583f455486fa90877b4' Timestamp('2022-04-16 00:00:00')\n",
      "  Timestamp('2022-04-17 00:00:00') 'ATL' 'BOS' 'PT2H32M' False 248.6 8\n",
      "  947.0 list(['Delta']) list(['DL'])]\n",
      " ['980370cf27c89b40d2833a1d5afc9751' Timestamp('2022-04-16 00:00:00')\n",
      "  Timestamp('2022-04-17 00:00:00') 'ATL' 'BOS' 'PT2H34M' False 248.6 9\n",
      "  947.0 list(['Delta']) list(['DL'])]\n",
      " ['79eda9f841e226a1e2121d74211e595c' Timestamp('2022-04-16 00:00:00')\n",
      "  Timestamp('2022-04-17 00:00:00') 'ATL' 'BOS' 'PT2H38M' False 248.6 7\n",
      "  947.0 list(['JetBlue Airways']) list(['B6'])]\n",
      " ['9335fae376c38bb61263281779f469ec' Timestamp('2022-04-16 00:00:00')\n",
      "  Timestamp('2022-04-17 00:00:00') 'ATL' 'BOS' 'PT4H12M' False 251.1 3\n",
      "  956.0 list(['American Airlines', 'American Airlines'])\n",
      "  list(['AA', 'AA'])]\n",
      " ['3904bf87f2d1daf334f1ae7e3b876028' Timestamp('2022-04-16 00:00:00')\n",
      "  Timestamp('2022-04-17 00:00:00') 'ATL' 'BOS' 'PT5H18M' False 251.1 3\n",
      "  956.0 list(['American Airlines', 'American Airlines'])\n",
      "  list(['AA', 'AA'])]\n",
      " ['d93988734c44a3c075d9efe373352507' Timestamp('2022-04-16 00:00:00')\n",
      "  Timestamp('2022-04-17 00:00:00') 'ATL' 'BOS' 'PT5H32M' False 251.1 7\n",
      "  956.0 list(['American Airlines', 'American Airlines'])\n",
      "  list(['AA', 'AA'])]\n",
      " ['562e7d5dd6ecbf1509c0c19711dbdca9' Timestamp('2022-04-16 00:00:00')\n",
      "  Timestamp('2022-04-17 00:00:00') 'ATL' 'BOS' 'PT6H38M' False 251.1 7\n",
      "  956.0 list(['American Airlines', 'American Airlines'])\n",
      "  list(['AA', 'AA'])]]\n"
     ]
    }
   ],
   "source": [
    "split = lambda x: x.split(\"||\")\n",
    "\n",
    "data = pd.read_csv(path + file,decimal='.',parse_dates=[1,2], converters={'segmentsAirlineName':split, 'segmentsAirlineCode':split})\n",
    "arrayNp = data.to_numpy()\n",
    "print(data.columns)\n",
    "print(arrayNp[:10])"
   ]
  },
  {
   "attachments": {},
   "cell_type": "markdown",
   "metadata": {},
   "source": [
    "## Dividir datos en meses"
   ]
  },
  {
   "cell_type": "code",
   "execution_count": null,
   "metadata": {},
   "outputs": [],
   "source": [
    "\n",
    "data = pd.read_csv(path + file,index_col= None)\n",
    "enero = data[data['flightDate']>= pd.datetime('2022-01-01') && data['flightDate']<= pd.datetime('2022-01-31')]\n",
    "febrero = data[data['flightDate']>= pd.datetime('2022-02-01') && data['flightDate']<=pd.datetime('2022-02-28')]\n",
    "marzo = data[data['flightDate']>= pd.datetime('2022-03-01') && data['flightDate']<=pd.datetime('2022-03-31')]\n",
    "abril = data[data['flightDate']>= pd.datetime('2022-04-01') && data['flightDate']<=pd.datetime('2022-04-30')]\n",
    "mayo = data[data['flightDate']>= pd.datetime('2022-05-01') && data['flightDate']<=pd.datetime('2022-05-31')]\n",
    "junio = data[data['flightDate']>= pd.datetime('2022-06-01') && data['flightDate']<=pd.datetime('2022-06-30')]\n",
    "julio = data[data['flightDate']>= pd.datetime('2022-07-01') && data['flightDate']<=pd.datetime('2022-07-31')]\n",
    "agosto = data[data['flightDate']>= pd.datetime('2022-08-01') && data['flightDate']<=pd.datetime('2022-08-31')]\n",
    "septiembre = data[data['flightDate']>= pd.datetime('2022-09-01') && data['flightDate']<=pd.datetime('2022-09-30')]\n",
    "octubre  = data[data['flightDate']>= pd.datetime('2022-10-01') && data['flightDate']<=pd.datetime('2022-10-31')]\n",
    "noviembre = data[data['flightDate']>= pd.datetime('2022-11-01') && data['flightDate']<=pd.datetime('2022-11-30')]\n",
    "diciembre = data[data['flightDate']>= pd.datetime('2022-12-01') && data['flightDate']<=pd.datetime('2022-12-31')]\n",
    "enero.to_csv(path + finalFile,index=False)\n",
    "febrero.to_csv(path + finalFile,index=False)\n",
    "marzo.to_csv(path + finalFile,index=False)\n",
    "abril.to_csv(path + finalFile,index=False)\n",
    "mayo.to_csv(path + finalFile,index=False)\n",
    "junio.to_csv(path + finalFile,index=False)\n",
    "julio.to_csv(path + finalFile,index=False)\n",
    "agosto.to_csv(path + finalFile,index=False)\n",
    "septiembre.to_csv(path + finalFile,index=False)\n",
    "octubre.to_csv(path + finalFile,index=False)\n",
    "noviembre.to_csv(path + finalFile,index=False)\n",
    "diciembre.to_csv(path + finalFile,index=False)\n"
   ]
  },
  {
   "attachments": {},
   "cell_type": "markdown",
   "metadata": {},
   "source": [
    "## Mismos vuelos en distintas compañias"
   ]
  },
  {
   "cell_type": "code",
   "execution_count": null,
   "metadata": {},
   "outputs": [],
   "source": []
  }
 ],
 "metadata": {
  "kernelspec": {
   "display_name": "Python 3",
   "language": "python",
   "name": "python3"
  },
  "language_info": {
   "codemirror_mode": {
    "name": "ipython",
    "version": 3
   },
   "file_extension": ".py",
   "mimetype": "text/x-python",
   "name": "python",
   "nbconvert_exporter": "python",
   "pygments_lexer": "ipython3",
   "version": "3.7.8"
  },
  "orig_nbformat": 4
 },
 "nbformat": 4,
 "nbformat_minor": 2
}
