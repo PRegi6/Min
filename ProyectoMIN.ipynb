{
 "cells": [
  {
   "attachments": {},
   "cell_type": "markdown",
   "metadata": {},
   "source": [
    "# Proyecto final de la asignatura Minería de datos y el paradigma Big Data - curso 2022/23"
   ]
  },
  {
   "attachments": {},
   "cell_type": "markdown",
   "metadata": {},
   "source": [
    "## Imports"
   ]
  },
  {
   "cell_type": "code",
   "execution_count": 1,
   "metadata": {},
   "outputs": [],
   "source": [
    "import pandas as pd\n",
    "import numpy as np\n",
    "import matplotlib.pyplot as plt\n"
   ]
  },
  {
   "attachments": {},
   "cell_type": "markdown",
   "metadata": {},
   "source": [
    "## Rutas"
   ]
  },
  {
   "cell_type": "code",
   "execution_count": 62,
   "metadata": {},
   "outputs": [],
   "source": [
    "path = './Data/'\n",
    "file = 'itineraries_clean.csv'"
   ]
  },
  {
   "attachments": {},
   "cell_type": "markdown",
   "metadata": {},
   "source": [
    "## Limpieza del dataset"
   ]
  },
  {
   "cell_type": "code",
   "execution_count": 26,
   "metadata": {},
   "outputs": [
    {
     "name": "stdout",
     "output_type": "stream",
     "text": [
      "                                   legId  searchDate  flightDate  \\\n",
      "0       9ca0e81111c683bec1012473feefd28f  2022-04-16  2022-04-17   \n",
      "1       98685953630e772a098941b71906592b  2022-04-16  2022-04-17   \n",
      "2       98d90cbc32bfbb05c2fc32897c7c1087  2022-04-16  2022-04-17   \n",
      "3       969a269d38eae583f455486fa90877b4  2022-04-16  2022-04-17   \n",
      "4       980370cf27c89b40d2833a1d5afc9751  2022-04-16  2022-04-17   \n",
      "...                                  ...         ...         ...   \n",
      "299995  90591f3aeeba1c88e66c64746299b28c  2022-04-17  2022-05-11   \n",
      "299996  bc251918565f2c1aff1ea039220cfece  2022-04-17  2022-05-11   \n",
      "299997  b6d15042b341b0845241af77866b97d0  2022-04-17  2022-05-11   \n",
      "299998  55efe31162876477d2761abd5abb438d  2022-04-17  2022-05-11   \n",
      "299999  e22ff727fea0f61ba78212ecc49b1992  2022-04-17  2022-05-11   \n",
      "\n",
      "       startingAirport destinationAirport travelDuration  isBasicEconomy  \\\n",
      "0                  ATL                BOS        PT2H29M           False   \n",
      "1                  ATL                BOS        PT2H30M           False   \n",
      "2                  ATL                BOS        PT2H30M           False   \n",
      "3                  ATL                BOS        PT2H32M           False   \n",
      "4                  ATL                BOS        PT2H34M           False   \n",
      "...                ...                ...            ...             ...   \n",
      "299995             DFW                IAD        PT5H44M           False   \n",
      "299996             DFW                IAD         PT8H3M           False   \n",
      "299997             DFW                IAD          PT10H            True   \n",
      "299998             DFW                IAD        PT7H28M           False   \n",
      "299999             DFW                IAD       PT10H50M            True   \n",
      "\n",
      "        totalFare  seatsRemaining  totalTravelDistance segmentsAirlineName  \\\n",
      "0          248.60               9                947.0               Delta   \n",
      "1          248.60               4                947.0               Delta   \n",
      "2          248.60               9                947.0               Delta   \n",
      "3          248.60               8                947.0               Delta   \n",
      "4          248.60               9                947.0               Delta   \n",
      "...           ...             ...                  ...                 ...   \n",
      "299995     192.60               1               1393.0      United||United   \n",
      "299996     192.60               2               1393.0      United||United   \n",
      "299997     222.21               9               1601.0        Delta||Delta   \n",
      "299998     231.60               5               1601.0        Delta||Delta   \n",
      "299999     232.20               9               1601.0      United||United   \n",
      "\n",
      "       segmentsAirlineCode  \n",
      "0                       DL  \n",
      "1                       DL  \n",
      "2                       DL  \n",
      "3                       DL  \n",
      "4                       DL  \n",
      "...                    ...  \n",
      "299995              UA||UA  \n",
      "299996              UA||UA  \n",
      "299997              DL||DL  \n",
      "299998              DL||DL  \n",
      "299999              UA||UA  \n",
      "\n",
      "[300000 rows x 12 columns]\n"
     ]
    }
   ],
   "source": [
    "finalFile = 'itineraries_clean.csv'\n",
    "\n",
    "columnsSelected = [ 'legId', 'searchDate', 'flightDate', 'startingAirport',\n",
    "    'destinationAirport', 'travelDuration',\n",
    "    'isBasicEconomy', 'totalFare',\n",
    "    'seatsRemaining', 'totalTravelDistance', \n",
    "    'segmentsAirlineName', 'segmentsAirlineCode']\n",
    "\n",
    "data = pd.read_csv(path + file,usecols=columnsSelected,index_col= None)\n",
    "print(data)\n",
    "data.to_csv(path + finalFile,index=False)"
   ]
  },
  {
   "attachments": {},
   "cell_type": "markdown",
   "metadata": {},
   "source": [
    "## Lectura del dataset"
   ]
  },
  {
   "cell_type": "code",
   "execution_count": 68,
   "metadata": {},
   "outputs": [
    {
     "data": {
      "text/html": [
       "<div>\n",
       "<style scoped>\n",
       "    .dataframe tbody tr th:only-of-type {\n",
       "        vertical-align: middle;\n",
       "    }\n",
       "\n",
       "    .dataframe tbody tr th {\n",
       "        vertical-align: top;\n",
       "    }\n",
       "\n",
       "    .dataframe thead th {\n",
       "        text-align: right;\n",
       "    }\n",
       "</style>\n",
       "<table border=\"1\" class=\"dataframe\">\n",
       "  <thead>\n",
       "    <tr style=\"text-align: right;\">\n",
       "      <th></th>\n",
       "      <th>startingAirport</th>\n",
       "      <th>destinationAirport</th>\n",
       "      <th>totalFare</th>\n",
       "    </tr>\n",
       "  </thead>\n",
       "  <tbody>\n",
       "    <tr>\n",
       "      <th>0</th>\n",
       "      <td>ATL</td>\n",
       "      <td>BOS</td>\n",
       "      <td>248.6</td>\n",
       "    </tr>\n",
       "    <tr>\n",
       "      <th>1</th>\n",
       "      <td>ATL</td>\n",
       "      <td>BOS</td>\n",
       "      <td>248.6</td>\n",
       "    </tr>\n",
       "    <tr>\n",
       "      <th>2</th>\n",
       "      <td>ATL</td>\n",
       "      <td>BOS</td>\n",
       "      <td>248.6</td>\n",
       "    </tr>\n",
       "    <tr>\n",
       "      <th>3</th>\n",
       "      <td>ATL</td>\n",
       "      <td>BOS</td>\n",
       "      <td>248.6</td>\n",
       "    </tr>\n",
       "    <tr>\n",
       "      <th>4</th>\n",
       "      <td>ATL</td>\n",
       "      <td>BOS</td>\n",
       "      <td>248.6</td>\n",
       "    </tr>\n",
       "    <tr>\n",
       "      <th>5</th>\n",
       "      <td>ATL</td>\n",
       "      <td>BOS</td>\n",
       "      <td>248.6</td>\n",
       "    </tr>\n",
       "    <tr>\n",
       "      <th>6</th>\n",
       "      <td>ATL</td>\n",
       "      <td>BOS</td>\n",
       "      <td>251.1</td>\n",
       "    </tr>\n",
       "    <tr>\n",
       "      <th>7</th>\n",
       "      <td>ATL</td>\n",
       "      <td>BOS</td>\n",
       "      <td>251.1</td>\n",
       "    </tr>\n",
       "    <tr>\n",
       "      <th>8</th>\n",
       "      <td>ATL</td>\n",
       "      <td>BOS</td>\n",
       "      <td>251.1</td>\n",
       "    </tr>\n",
       "    <tr>\n",
       "      <th>9</th>\n",
       "      <td>ATL</td>\n",
       "      <td>BOS</td>\n",
       "      <td>251.1</td>\n",
       "    </tr>\n",
       "  </tbody>\n",
       "</table>\n",
       "</div>"
      ],
      "text/plain": [
       "  startingAirport destinationAirport  totalFare\n",
       "0             ATL                BOS      248.6\n",
       "1             ATL                BOS      248.6\n",
       "2             ATL                BOS      248.6\n",
       "3             ATL                BOS      248.6\n",
       "4             ATL                BOS      248.6\n",
       "5             ATL                BOS      248.6\n",
       "6             ATL                BOS      251.1\n",
       "7             ATL                BOS      251.1\n",
       "8             ATL                BOS      251.1\n",
       "9             ATL                BOS      251.1"
      ]
     },
     "execution_count": 68,
     "metadata": {},
     "output_type": "execute_result"
    }
   ],
   "source": [
    "split = lambda x: x.split(\"||\")\n",
    "\n",
    "columnsSelected = [ \n",
    "    #'legId', 'searchDate',\n",
    "    #'flightDate', \n",
    "    'startingAirport',\n",
    "    'destinationAirport', \n",
    "    # 'travelDuration',\n",
    "    #'isBasicEconomy', \n",
    "    'totalFare',\n",
    "    #'seatsRemaining', 'totalTravelDistance', \n",
    "    #'segmentsAirlineName', 'segmentsAirlineCode'\n",
    "    ]\n",
    "\n",
    "data = pd.read_csv(path + file,decimal='.',usecols=columnsSelected,)# parse_dates=['searchDate','flightDate'],)# converters={'segmentsAirlineName':split, 'segmentsAirlineCode':split})\n",
    "data[:10]"
   ]
  },
  {
   "attachments": {},
   "cell_type": "markdown",
   "metadata": {},
   "source": [
    "## Media de coste de vuelos por mes"
   ]
  },
  {
   "cell_type": "code",
   "execution_count": 12,
   "metadata": {},
   "outputs": [
    {
     "data": {
      "text/plain": [
       "351.6"
      ]
     },
     "execution_count": 12,
     "metadata": {},
     "output_type": "execute_result"
    }
   ],
   "source": [
    "abril = data[data['flightDate'].dt.month == 4]['totalFare'].median()\n",
    "mayo = data[data['flightDate'].dt.month == 5]['totalFare'].median()\n",
    "junio = data[data['flightDate'].dt.month == 6]['totalFare'].median()\n",
    "julio = data[data['flightDate'].dt.month == 7]['totalFare'].median()\n",
    "agosto = data[data['flightDate'].dt.month == 8]['totalFare'].median()\n",
    "septiembre = data[data['flightDate'].dt.month == 9]['totalFare'].median()\n",
    "octubre  = data[data['flightDate'].dt.month == 10]['totalFare'].median()\n",
    "noviembre = data[data['flightDate'].dt.month == 11]['totalFare'].median()"
   ]
  },
  {
   "cell_type": "code",
   "execution_count": 13,
   "metadata": {},
   "outputs": [
    {
     "data": {
      "image/png": "[encoded data removed]",
      "text/plain": [
       "<Figure size 640x480 with 1 Axes>"
      ]
     },
     "metadata": {},
     "output_type": "display_data"
    },
    {
     "data": {
      "text/plain": [
       "<Figure size 640x480 with 0 Axes>"
      ]
     },
     "metadata": {},
     "output_type": "display_data"
    }
   ],
   "source": [
    "meses = ['Abr', 'May', 'Jun', 'Jul', 'Ago', 'Sep', 'Oct', 'Nov']\n",
    "MediaPrecioMes = np.array([\n",
    "    abril,\n",
    "    mayo,\n",
    "    junio,\n",
    "    julio,\n",
    "    agosto,\n",
    "    septiembre,\n",
    "    octubre,\n",
    "    noviembre\n",
    "])\n",
    "\n",
    "fig, ax = plt.subplots()\n",
    "ax.bar(meses, MediaPrecioMes)\n",
    "\n",
    "plt.show()\n",
    "plt.savefig('MediaPrecioXMes.png')"
   ]
  },
  {
   "attachments": {},
   "cell_type": "markdown",
   "metadata": {},
   "source": [
    "## Top 10 vuelos más buscados"
   ]
  },
  {
   "cell_type": "code",
   "execution_count": null,
   "metadata": {},
   "outputs": [],
   "source": [
    "startAir = data['startingAirport'].unique()\n",
    "destAir = data['destinationAirport'].unique()\n",
    "list= []\n",
    "count = []\n",
    "origenDestino = []\n",
    "for sAir in startAir:\n",
    "    for dAir in destAir:\n",
    "        count = len(data[(data['startingAirport'] == sAir) & (data['destinationAirport'] == dAir)])\n",
    "        origenDestino = f'{sAir}-{dAir}'\n",
    "        list.append([count,origenDestino])\n",
    "list.sort(key = lambda x:x[0],reverse=True)\n",
    "list = np.array(list)\n",
    "plt.barh(list[:10,1], np.array(list[:10,0],dtype = int))\n",
    "plt.title('Top 10 vuelos más repetidos')\n",
    "plt.xlabel('Conteo')\n",
    "plt.ylabel('Origen-Destino')\n",
    "plt.show()\n"
   ]
  },
  {
   "cell_type": "code",
   "execution_count": 72,
   "metadata": {},
   "outputs": [
    {
     "name": "stdout",
     "output_type": "stream",
     "text": [
      "startingAirport  destinationAirport\n",
      "ATL              BOS                   493277\n",
      "                 CLT                   233173\n",
      "                 DEN                   309087\n",
      "                 DFW                   290362\n",
      "                 DTW                   369510\n",
      "                                        ...  \n",
      "SFO              LGA                   507789\n",
      "                 MIA                   383629\n",
      "                 OAK                   224581\n",
      "                 ORD                   370428\n",
      "                 PHL                   333833\n",
      "Length: 235, dtype: int64\n"
     ]
    }
   ],
   "source": [
    "value = data.pivot_table(columns=['startingAirport','destinationAirport'], aggfunc= 'size')\n",
    "print(value)"
   ]
  },
  {
   "cell_type": "code",
   "execution_count": 84,
   "metadata": {},
   "outputs": [
    {
     "data": {
      "text/plain": [
       "<AxesSubplot:title={'center':'Top 10 vuelos más repetidos'}, ylabel='(Origen,Destino)'>"
      ]
     },
     "execution_count": 84,
     "metadata": {},
     "output_type": "execute_result"
    },
    {
     "data": {
      "image/png": "[encoded data removed]",
      "text/plain": [
       "<Figure size 640x480 with 1 Axes>"
      ]
     },
     "metadata": {},
     "output_type": "display_data"
    }
   ],
   "source": [
    "value = data.pivot_table(columns=['startingAirport','destinationAirport'], aggfunc= 'size')\n",
    "value = value.sort_values(ascending=False)\n",
    "value[:10].plot(kind = 'barh',title = 'Top 10 vuelos más repetidos',xlabel = '(Origen,Destino)')"
   ]
  },
  {
   "attachments": {},
   "cell_type": "markdown",
   "metadata": {},
   "source": [
    "## Datos interesantes\n",
    "- vuelo más caro\n",
    "- vuelo más barato\n",
    "- vuelo más largo\n",
    "- vuelo comprado con mayor antelación"
   ]
  },
  {
   "attachments": {},
   "cell_type": "markdown",
   "metadata": {},
   "source": [
    "### Vuelo más caro"
   ]
  },
  {
   "cell_type": "code",
   "execution_count": 69,
   "metadata": {},
   "outputs": [
    {
     "name": "stdout",
     "output_type": "stream",
     "text": [
      "El vuelo más caro es desde SFO hasta DTW, costando: 8260.61\n"
     ]
    }
   ],
   "source": [
    "vuelo = data.loc[data['totalFare'].idxmax()]\n",
    "print(f\"El vuelo más caro es desde {vuelo['startingAirport']} hasta {vuelo['destinationAirport']}, costando: {vuelo['totalFare']}\")"
   ]
  },
  {
   "attachments": {},
   "cell_type": "markdown",
   "metadata": {},
   "source": [
    "### Vuelo más barato"
   ]
  },
  {
   "cell_type": "code",
   "execution_count": 70,
   "metadata": {},
   "outputs": [
    {
     "name": "stdout",
     "output_type": "stream",
     "text": [
      "El vuelo más barato es desde LAX hasta OAK, costando: 19.59\n"
     ]
    }
   ],
   "source": [
    "vuelo = data.loc[data['totalFare'].idxmin()]\n",
    "print(f\"El vuelo más barato es desde {vuelo['startingAirport']} hasta {vuelo['destinationAirport']}, costando: {vuelo['totalFare']}\")"
   ]
  },
  {
   "attachments": {},
   "cell_type": "markdown",
   "metadata": {},
   "source": [
    "### Vuelo más largo"
   ]
  },
  {
   "cell_type": "code",
   "execution_count": 28,
   "metadata": {},
   "outputs": [
    {
     "data": {
      "text/plain": [
       "'PT9H9M'"
      ]
     },
     "execution_count": 28,
     "metadata": {},
     "output_type": "execute_result"
    }
   ],
   "source": [
    "data['travelDuration'].max()\n"
   ]
  },
  {
   "attachments": {},
   "cell_type": "markdown",
   "metadata": {},
   "source": [
    "### Vuelo comprado con mayor antelación"
   ]
  },
  {
   "cell_type": "code",
   "execution_count": 65,
   "metadata": {},
   "outputs": [
    {
     "name": "stdout",
     "output_type": "stream",
     "text": [
      "El vuelo comprado con mayor antelación fue de 60 dias antes\n"
     ]
    }
   ],
   "source": [
    "data['diferent'] = data['flightDate'] - data['searchDate']\n",
    "print(f\"El vuelo comprado con mayor antelación fue de {data['diferent'].max().days} dias antes\")"
   ]
  }
 ],
 "metadata": {
  "kernelspec": {
   "display_name": "Python 3",
   "language": "python",
   "name": "python3"
  },
  "language_info": {
   "codemirror_mode": {
    "name": "ipython",
    "version": 3
   },
   "file_extension": ".py",
   "mimetype": "text/x-python",
   "name": "python",
   "nbconvert_exporter": "python",
   "pygments_lexer": "ipython3",
   "version": "3.7.8"
  },
  "orig_nbformat": 4,
  "vscode": {
   "interpreter": {
    "hash": "0a54084e6b208ee8d1ce3989ffc20924477a5f55f5a43e22e699a6741623861e"
   }
  }
 },
 "nbformat": 4,
 "nbformat_minor": 2
}
