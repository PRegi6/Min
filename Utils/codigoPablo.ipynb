{
 "cells": [
  {
   "attachments": {},
   "cell_type": "markdown",
   "metadata": {},
   "source": [
    "Herramientas utilizadas: Pandas y matplotlib"
   ]
  },
  {
   "attachments": {},
   "cell_type": "markdown",
   "metadata": {},
   "source": [
    "Gráfico Ciruclar de vuelos filtrados por la fecha de vuelo"
   ]
  },
  {
   "cell_type": "code",
   "execution_count": null,
   "metadata": {},
   "outputs": [],
   "source": [
    "import pandas as pd\n",
    "import matplotlib.pyplot as plt\n",
    "\n",
    "# Leo el dataframe\n",
    "df = pd.read_csv('itineraries_clean.csv')\n",
    "df = df[['legId', 'startingAirport', 'destinationAirport']]\n",
    "\n",
    "# Me quedo con los vuelos únicos, evito repeticiones del mismo vuelo\n",
    "df = df.drop_duplicates(subset=['legId'])\n",
    "\n",
    "# Convertir a objeto datetime para poder filtrar bien\n",
    "df['flightDate'] = pd.to_datetime(df['flightDate'])\n",
    "start_date = pd.Timestamp('2022-07-01')  # Fecha de inicio\n",
    "end_date = pd.Timestamp('2022-07-31')  # Fecha de fin\n",
    "df = df.loc[((df['flightDate'] >= start_date) & (df['flightDate'] <= end_date)) & (df['startingAirport'] == 'ATL')]\n",
    "\n",
    "df = df[['startingAirport', 'destinationAirport']]\n",
    "df = df.groupby(['startingAirport', 'destinationAirport']).size().reset_index(name='Count')\n",
    "\n",
    "# Generar gráfico circular\n",
    "plt.pie(df['Count'], labels=df['startingAirport'] + ' to ' + df['destinationAirport'], autopct='%1.1f%%')\n",
    "plt.title('Apariciones de cada par de aeropuertos de origen y destino (Julio 2022)')\n",
    "\n",
    "plt.savefig('grafico_aeropuertos.png', bbox_inches='tight')"
   ]
  },
  {
   "attachments": {},
   "cell_type": "markdown",
   "metadata": {},
   "source": [
    "Número de vuelos por mes"
   ]
  },
  {
   "cell_type": "code",
   "execution_count": null,
   "metadata": {},
   "outputs": [],
   "source": [
    "import pandas as pd\n",
    "import matplotlib.pyplot as plt\n",
    "\n",
    "# Leo el dataframe\n",
    "df = pd.read_csv('itineraries_clean.csv')\n",
    "df = df[['legId', 'startingAirport', 'destinationAirport', 'flightDate']]\n",
    "\n",
    "# Convertir a objeto datetime para poder sacar el mes del vuelo\n",
    "df['flightDate'] = pd.to_datetime(df['flightDate'])\n",
    "df['month'] = df['flightDate'].dt.month\n",
    "\n",
    "# Consigo una serie que contiene el mes y el número de vuelos\n",
    "flight_count = df['month'].value_counts().sort_index()\n",
    "\n",
    "# Creo un gráfico de barras\n",
    "fig, ax = plt.subplots()\n",
    "ax.bar(flight_count.index, flight_count.values)\n",
    "\n",
    "# Genero un gráfico de barras\n",
    "ax.set_xlabel('Mes')\n",
    "ax.set_ylabel('Número de vuelos')\n",
    "ax.set_xticks(range(1, 8))\n",
    "ax.set_xticklabels(['Abr', 'May', 'Jun', 'Jul', 'Ago', 'Sep', 'Oct', 'Nov'])\n",
    "\n",
    "plt.savefig('vuelos_por_mes.png')"
   ]
  },
  {
   "attachments": {},
   "cell_type": "markdown",
   "metadata": {},
   "source": [
    "Herramientas utilizadas: Spark"
   ]
  },
  {
   "cell_type": "code",
   "execution_count": null,
   "metadata": {},
   "outputs": [],
   "source": [
    "from pyspark.sql import SparkSession\n",
    "import matplotlib.pyplot as plt\n",
    "\n",
    "# Crear una sesión de Spark\n",
    "spark = SparkSession.builder.appName('numAerolineas').getOrCreate()\n",
    "\n",
    "# Leer el archivo csv y crear el DataFrame\n",
    "df = spark.read.option(\"header\", True).csv(\"itineraries_clean.csv\")\n",
    "\n",
    "# Seleccionar la columna de aerolíneas y separarlas por \"||\" si hay varias en una misma fila\n",
    "rdd = df.rdd.flatMap(lambda x: x['segmentsAirlineName'].split('||'))\n",
    "\n",
    "# Contar las apariciones de cada aerolínea\n",
    "rdd = rdd.map(lambda x: (x.strip(), 1)).reduceByKey(lambda a, b: a + b)\n",
    "\n",
    "# Crear el DataFrame de pandas y ordenarlo de mayor a menor\n",
    "df_pandas = rdd.toDF(['aerolinea', 'count']).sort('count', ascending=False).toPandas()\n",
    "\n",
    "# Crear el gráfico de barras horizontales\n",
    "plt.barh(df_pandas['aerolinea'], df_pandas['count'])\n",
    "\n",
    "# Configurar el título y las etiquetas de los ejes\n",
    "plt.title('Conteo de aerolíneas')\n",
    "plt.xlabel('Conteo')\n",
    "plt.ylabel('Aerolínea')\n",
    "\n",
    "plt.savefig('grafico_aerolineas.png', bbox_inches='tight')"
   ]
  }
 ],
 "metadata": {
  "language_info": {
   "name": "python"
  },
  "orig_nbformat": 4
 },
 "nbformat": 4,
 "nbformat_minor": 2
}
