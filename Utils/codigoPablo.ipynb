{
 "cells": [
  {
   "attachments": {},
   "cell_type": "markdown",
   "metadata": {},
   "source": [
    "Herramientas utilizadas: Pandas y matplotlib"
   ]
  },
  {
   "attachments": {},
   "cell_type": "markdown",
   "metadata": {},
   "source": [
    "Número de vuelos filtrados por la fecha de vuelo y destino"
   ]
  },
  {
   "cell_type": "code",
   "execution_count": null,
   "metadata": {},
   "outputs": [],
   "source": [
    "import pandas as pd\n",
    "import matplotlib.pyplot as plt\n",
    "\n",
    "# Leo el dataframe\n",
    "df = pd.read_csv('itineraries_clean.csv')\n",
    "df = df[['legId', 'startingAirport', 'destinationAirport', 'flightDate']]\n",
    "\n",
    "# Me quedo con los vuelos únicos, evito repeticiones del mismo vuelo\n",
    "df = df.drop_duplicates(subset=['legId'])\n",
    "\n",
    "# Convierto a objeto datetime para poder filtrar bien\n",
    "df['flightDate'] = pd.to_datetime(df['flightDate'])\n",
    "start_date = pd.Timestamp('2022-08-01')  # Fecha de inicio\n",
    "end_date = pd.Timestamp('2022-08-31')  # Fecha de fin\n",
    "\n",
    "# Me quedo con los vuelos dentro del rango de fechas y que se dirijan a un destino especifico\n",
    "df = df.loc[((df['flightDate'] >= start_date) & (df['flightDate'] <= end_date)) & (df['destinationAirport'] == 'JFK')] \n",
    "\n",
    "df = df[['startingAirport', 'destinationAirport']]\n",
    "df = df.groupby(['startingAirport', 'destinationAirport']).size().reset_index(name='Count')\n",
    "\n",
    "viajesTotales = df['Count'].sum()\n",
    "\n",
    "# Genero el gráfico circular\n",
    "plt.pie(df['Count'], labels=df['startingAirport'], autopct='%0.2f%%')\n",
    "plt.title(f'Vuelos con destino JFK (Agosto 2022)\\nViajes totales: {viajesTotales}')\n",
    "plt.show()\n",
    "\n",
    "#plt.savefig('vuelosJFK.png', bbox_inches='tight')"
   ]
  },
  {
   "attachments": {},
   "cell_type": "markdown",
   "metadata": {},
   "source": [
    "Número de búsquedas de vuelos por mes"
   ]
  },
  {
   "cell_type": "code",
   "execution_count": 2,
   "metadata": {},
   "outputs": [
    {
     "data": {
      "image/png": "[encoded data removed]",
      "text/plain": [
       "<Figure size 640x480 with 1 Axes>"
      ]
     },
     "metadata": {},
     "output_type": "display_data"
    },
    {
     "data": {
      "text/plain": [
       "<Figure size 640x480 with 0 Axes>"
      ]
     },
     "metadata": {},
     "output_type": "display_data"
    }
   ],
   "source": [
    "import pandas as pd\n",
    "import matplotlib.pyplot as plt\n",
    "\n",
    "# Leo el dataframe\n",
    "df = pd.read_csv('itineraries_clean.csv')\n",
    "df = df[['legId', 'startingAirport', 'destinationAirport', 'flightDate']]\n",
    "\n",
    "# Convierto a objeto datetime para poder sacar el mes del vuelo\n",
    "df['flightDate'] = pd.to_datetime(df['flightDate'])\n",
    "df['month'] = df['flightDate'].dt.month\n",
    "\n",
    "# Consigo una serie que contiene el mes y el número de vuelos\n",
    "flight_count = df['month'].value_counts().sort_index()\n",
    "\n",
    "# Creo un gráfico de barras\n",
    "fig, ax = plt.subplots()\n",
    "ax.bar(flight_count.index, flight_count.values, align='center', width=0.6)\n",
    "\n",
    "# Ajustes del gráfico\n",
    "ax.set_xlabel('Mes')\n",
    "ax.set_ylabel('Número de vuelos')\n",
    "ax.set_xticks(range(4, 12))\n",
    "ax.set_xticklabels(['Abr', 'May', 'Jun', 'Jul', 'Ago', 'Sep', 'Oct', 'Nov'], ha='center')\n",
    "ax.set_xlim(3.5, 11.5)\n",
    "\n",
    "plt.show()\n",
    "\n",
    "# plt.savefig('busquedasXMes.png')"
   ]
  },
  {
   "attachments": {},
   "cell_type": "markdown",
   "metadata": {},
   "source": [
    "Número de vuelos por aeropuerto de destino (Abril - Noviembre)"
   ]
  },
  {
   "cell_type": "code",
   "execution_count": null,
   "metadata": {},
   "outputs": [],
   "source": [
    "import pandas as pd\n",
    "import matplotlib.pyplot as plt\n",
    "\n",
    "# Leo el dataframe\n",
    "df = pd.read_csv('itineraries_clean.csv')\n",
    "df = df[['legId', 'startingAirport', 'destinationAirport']]\n",
    "\n",
    "# Me quedo con los vuelos únicos, evito repeticiones del mismo vuelo\n",
    "df = df.drop_duplicates(subset=['legId'])\n",
    "\n",
    "#Me quedo con los vuelos que se dirijan a un destino especifico\n",
    "df = df.loc[(df['destinationAirport'] == 'JFK')]\n",
    "\n",
    "df = df.groupby(['startingAirport', 'destinationAirport']).size().reset_index(name='Count')\n",
    "\n",
    "viajesTotales = df['Count'].sum()\n",
    "\n",
    "# Genero gráfico circular\n",
    "plt.pie(df['Count'], labels=df['startingAirport'], autopct='%0.2f%%')\n",
    "plt.title(f'Vuelos con destino JFK \\nViajes totales: {viajesTotales}')\n",
    "plt.show()\n",
    "\n",
    "# plt.savefig('vuelosJFK(anyoEntero).png', bbox_inches='tight')"
   ]
  },
  {
   "attachments": {},
   "cell_type": "markdown",
   "metadata": {},
   "source": [
    "Herramientas utilizadas: Spark"
   ]
  },
  {
   "attachments": {},
   "cell_type": "markdown",
   "metadata": {},
   "source": [
    "Gráfico de barras de los vuelos ofrecidos por cada aerolínea"
   ]
  },
  {
   "cell_type": "code",
   "execution_count": 3,
   "metadata": {},
   "outputs": [],
   "source": [
    "from pyspark.sql import SparkSession\n",
    "import matplotlib.pyplot as plt\n",
    "\n",
    "# Creo una sesión de Spark\n",
    "spark = SparkSession.builder.appName('numAerolineas').getOrCreate()\n",
    "\n",
    "# Leo el csv y creo el DataFrame\n",
    "df = spark.read.option(\"header\", True).csv(\"itineraries_clean.csv\")\n",
    "\n",
    "# Borro las búsquedas duplicadas\n",
    "df = df.dropDuplicates(['legId'])\n",
    "\n",
    "# Selecciono la columna de aerolíneas y separarlas por \"||\" si hay varias en una misma fila\n",
    "rdd = df.rdd.flatMap(lambda x: x['segmentsAirlineName'].split('||'))\n",
    "\n",
    "# Apariciones de cada aerolínea\n",
    "rdd = rdd.map(lambda x: (x.strip(), 1)).reduceByKey(lambda a, b: a + b)\n",
    "\n",
    "# Creo el DataFrame de pandas y ordenarlo de mayor a menor\n",
    "df_pandas = rdd.toDF(['aerolinea', 'count']).sort('count', ascending=False).toPandas()\n",
    "\n",
    "# Creo el gráfico de barras horizontales y hago los ajustes necesarios\n",
    "plt.barh(df_pandas['aerolinea'], df_pandas['count'])\n",
    "plt.title('Conteo de aerolíneas')\n",
    "plt.xlabel('Conteo')\n",
    "plt.ylabel('Aerolínea')\n",
    "plt.xscale('log')\n",
    "plt.show()\n",
    "\n",
    "# plt.savefig('grafico_aerolineas.png', bbox_inches='tight')"
   ]
  }
 ],
 "metadata": {
  "kernelspec": {
   "display_name": "Python 3",
   "language": "python",
   "name": "python3"
  },
  "language_info": {
   "codemirror_mode": {
    "name": "ipython",
    "version": 3
   },
   "file_extension": ".py",
   "mimetype": "text/x-python",
   "name": "python",
   "nbconvert_exporter": "python",
   "pygments_lexer": "ipython3",
   "version": "3.10.10"
  },
  "orig_nbformat": 4
 },
 "nbformat": 4,
 "nbformat_minor": 2
}
